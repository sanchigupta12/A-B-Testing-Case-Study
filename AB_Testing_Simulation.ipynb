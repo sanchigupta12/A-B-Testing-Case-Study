{
 "cells": [
  {
   "cell_type": "markdown",
   "id": "10023a46",
   "metadata": {},
   "source": [
    "# A/B Testing Case Study Using Simulated Data\n",
    "\n",
    "## Project Overview\n",
    "This case study performs A/B testing using real clickstream data to compare user engagement between two webpage versions — Control (`con`) and Experimental (`exp`). The primary metric is click-through rate (CTR), and the goal is to evaluate whether the new design significantly outperforms the original. WE will analyze whether the new variation improves user engagement.\n"
   ]
  },
  {
   "cell_type": "code",
   "execution_count": 33,
   "id": "ea365325",
   "metadata": {},
   "outputs": [],
   "source": [
    "# Import required libraries\n",
    "import pandas as pd\n",
    "import numpy as np\n",
    "import matplotlib.pyplot as plt\n",
    "import seaborn as sns\n",
    "from scipy.stats import norm"
   ]
  },
  {
   "cell_type": "markdown",
   "id": "2ef08392",
   "metadata": {},
   "source": [
    "## Step 1: Simulating Click Data for Control and Experimental Groups\n",
    "**Objective:** To simulate realistic click behavior for two groups:\n",
    "- Control group (`con`) with a lower click-through rate (CTR)\n",
    "- Experimental group (`exp`) with a higher CTR\n",
    "\n",
    "**Why Simulate?**\n",
    "Simulating allows us to model controlled A/B experiments when real-world data is unavailable, and to test hypotheses and code logic under known conditions."
   ]
  },
  {
   "cell_type": "code",
   "execution_count": 34,
   "id": "32c17a2d",
   "metadata": {},
   "outputs": [
    {
     "data": {
      "text/html": [
       "<div>\n",
       "<style scoped>\n",
       "    .dataframe tbody tr th:only-of-type {\n",
       "        vertical-align: middle;\n",
       "    }\n",
       "\n",
       "    .dataframe tbody tr th {\n",
       "        vertical-align: top;\n",
       "    }\n",
       "\n",
       "    .dataframe thead th {\n",
       "        text-align: right;\n",
       "    }\n",
       "</style>\n",
       "<table border=\"1\" class=\"dataframe\">\n",
       "  <thead>\n",
       "    <tr style=\"text-align: right;\">\n",
       "      <th></th>\n",
       "      <th>click</th>\n",
       "      <th>group</th>\n",
       "    </tr>\n",
       "  </thead>\n",
       "  <tbody>\n",
       "    <tr>\n",
       "      <th>0</th>\n",
       "      <td>1</td>\n",
       "      <td>exp</td>\n",
       "    </tr>\n",
       "    <tr>\n",
       "      <th>1</th>\n",
       "      <td>0</td>\n",
       "      <td>exp</td>\n",
       "    </tr>\n",
       "    <tr>\n",
       "      <th>2</th>\n",
       "      <td>1</td>\n",
       "      <td>exp</td>\n",
       "    </tr>\n",
       "    <tr>\n",
       "      <th>3</th>\n",
       "      <td>0</td>\n",
       "      <td>exp</td>\n",
       "    </tr>\n",
       "    <tr>\n",
       "      <th>4</th>\n",
       "      <td>0</td>\n",
       "      <td>exp</td>\n",
       "    </tr>\n",
       "  </tbody>\n",
       "</table>\n",
       "</div>"
      ],
      "text/plain": [
       "   click group\n",
       "0      1   exp\n",
       "1      0   exp\n",
       "2      1   exp\n",
       "3      0   exp\n",
       "4      0   exp"
      ]
     },
     "execution_count": 34,
     "metadata": {},
     "output_type": "execute_result"
    }
   ],
   "source": [
    "# Define sample size for each group\n",
    "N_exp = 10000  # Experimental group\n",
    "N_con = 10000  # Control group\n",
    "\n",
    "# Generate binary click data using binomial distribution\n",
    "click_exp = pd.Series(np.random.binomial(1, 0.5, size=N_exp))  # 50% CTR\n",
    "click_con = pd.Series(np.random.binomial(1, 0.2, size=N_con))  # 20% CTR\n",
    "\n",
    "# Create group identifiers\n",
    "exp_id = pd.Series(np.repeat(\"exp\", N_exp))\n",
    "con_id = pd.Series(np.repeat(\"con\", N_con))\n",
    "\n",
    "# Create dataframes for each group\n",
    "df_exp = pd.concat([click_exp, exp_id], axis=1)\n",
    "df_con = pd.concat([click_con, con_id], axis=1)\n",
    "\n",
    "# Rename columns\n",
    "df_exp.columns = [\"click\", \"group\"]\n",
    "df_con.columns = [\"click\", \"group\"]\n",
    "\n",
    "# Combine both groups into a single A/B test dataset\n",
    "df_ab_test = pd.concat([df_exp, df_con], axis=0).reset_index(drop=True)\n",
    "\n",
    "# Preview the simulated dataset\n",
    "df_ab_test.head()"
   ]
  },
  {
   "cell_type": "code",
   "execution_count": 35,
   "id": "83bffd50",
   "metadata": {},
   "outputs": [
    {
     "data": {
      "text/html": [
       "<div>\n",
       "<style scoped>\n",
       "    .dataframe tbody tr th:only-of-type {\n",
       "        vertical-align: middle;\n",
       "    }\n",
       "\n",
       "    .dataframe tbody tr th {\n",
       "        vertical-align: top;\n",
       "    }\n",
       "\n",
       "    .dataframe thead th {\n",
       "        text-align: right;\n",
       "    }\n",
       "</style>\n",
       "<table border=\"1\" class=\"dataframe\">\n",
       "  <thead>\n",
       "    <tr style=\"text-align: right;\">\n",
       "      <th></th>\n",
       "      <th>click</th>\n",
       "    </tr>\n",
       "  </thead>\n",
       "  <tbody>\n",
       "    <tr>\n",
       "      <th>count</th>\n",
       "      <td>20000.000000</td>\n",
       "    </tr>\n",
       "    <tr>\n",
       "      <th>mean</th>\n",
       "      <td>0.344400</td>\n",
       "    </tr>\n",
       "    <tr>\n",
       "      <th>std</th>\n",
       "      <td>0.475184</td>\n",
       "    </tr>\n",
       "    <tr>\n",
       "      <th>min</th>\n",
       "      <td>0.000000</td>\n",
       "    </tr>\n",
       "    <tr>\n",
       "      <th>25%</th>\n",
       "      <td>0.000000</td>\n",
       "    </tr>\n",
       "    <tr>\n",
       "      <th>50%</th>\n",
       "      <td>0.000000</td>\n",
       "    </tr>\n",
       "    <tr>\n",
       "      <th>75%</th>\n",
       "      <td>1.000000</td>\n",
       "    </tr>\n",
       "    <tr>\n",
       "      <th>max</th>\n",
       "      <td>1.000000</td>\n",
       "    </tr>\n",
       "  </tbody>\n",
       "</table>\n",
       "</div>"
      ],
      "text/plain": [
       "              click\n",
       "count  20000.000000\n",
       "mean       0.344400\n",
       "std        0.475184\n",
       "min        0.000000\n",
       "25%        0.000000\n",
       "50%        0.000000\n",
       "75%        1.000000\n",
       "max        1.000000"
      ]
     },
     "execution_count": 35,
     "metadata": {},
     "output_type": "execute_result"
    }
   ],
   "source": [
    "df_ab_test.describe()"
   ]
  },
  {
   "cell_type": "markdown",
   "id": "df8a1fad",
   "metadata": {},
   "source": [
    "## Step 2: Visualizing Click Distribution"
   ]
  },
  {
   "cell_type": "code",
   "execution_count": 36,
   "id": "98fa86fa",
   "metadata": {},
   "outputs": [
    {
     "data": {
      "image/png": "[encoded data removed]",
      "text/plain": [
       "<Figure size 1000x600 with 1 Axes>"
      ]
     },
     "metadata": {},
     "output_type": "display_data"
    }
   ],
   "source": [
    "# Plot the click distribution\n",
    "palette = {0: 'yellow', 1: 'green'}\n",
    "\n",
    "plt.figure(figsize=(10, 6))\n",
    "ax = sns.countplot(x='group', hue='click', data=df_ab_test, palette=palette)\n",
    "plt.title('Click Distribution in Experimental and Control Groups')\n",
    "plt.xlabel('Group')\n",
    "plt.ylabel('Count')\n",
    "plt.legend(title='Click', labels=['No', 'Yes'])\n",
    "\n",
    "# Annotate bars with percentage values\n",
    "group_counts = df_ab_test.groupby('group').size()\n",
    "\n",
    "for p in ax.patches:\n",
    "    height = p.get_height()\n",
    "    group = 'exp' if p.get_x() < 0.5 else 'con'\n",
    "    total = group_counts.loc[group]\n",
    "    percentage = 100 * height / total\n",
    "    ax.text(p.get_x() + p.get_width() / 2., height + 5, f'{percentage:.1f}%', \n",
    "            ha=\"center\", color='black', fontsize=10)\n",
    "\n",
    "plt.tight_layout()\n",
    "plt.show()"
   ]
  },
  {
   "cell_type": "markdown",
   "id": "0e3f3c38",
   "metadata": {},
   "source": [
    "**Interpretation:** The experimental group had a significantly higher click-through rate than the control group. This suggests that the new version (experimental condition) improved user engagement and may be more effective."
   ]
  },
  {
   "cell_type": "markdown",
   "id": "a5d18a1a",
   "metadata": {},
   "source": [
    "## Step 3: Total clicks"
   ]
  },
  {
   "cell_type": "code",
   "execution_count": 37,
   "id": "2e363e23",
   "metadata": {},
   "outputs": [
    {
     "name": "stdout",
     "output_type": "stream",
     "text": [
      "group\n",
      "con    1976\n",
      "exp    4912\n",
      "Name: click, dtype: int64\n",
      "Number of Clicks in Control:  1976\n",
      "Number of Clicks in Experimental:  4912\n"
     ]
    }
   ],
   "source": [
    "# Calculate the total number of clicks in each group\n",
    "X_con = df_ab_test.groupby(\"group\")[\"click\"].sum().loc[\"con\"]\n",
    "X_exp = df_ab_test.groupby(\"group\")[\"click\"].sum().loc[\"exp\"]\n",
    "\n",
    "# Print group-wise click totals\n",
    "print(df_ab_test.groupby(\"group\")[\"click\"].sum())\n",
    "print(\"Number of Clicks in Control: \", X_con)\n",
    "print(\"Number of Clicks in Experimental: \", X_exp)\n"
   ]
  },
  {
   "cell_type": "code",
   "execution_count": 38,
   "id": "11e135ea",
   "metadata": {},
   "outputs": [],
   "source": [
    "## Step 4: Hypothesis testing setup"
   ]
  },
  {
   "cell_type": "code",
   "execution_count": 39,
   "id": "b7ba4f1f",
   "metadata": {},
   "outputs": [
    {
     "name": "stdout",
     "output_type": "stream",
     "text": [
      "Alpha: significance level is: 0.05\n"
     ]
    }
   ],
   "source": [
    "# statistical significance level of the test\n",
    "alpha = 0.05\n",
    "print(\"Alpha: significance level is:\", alpha )"
   ]
  },
  {
   "cell_type": "markdown",
   "id": "4b06533c",
   "metadata": {},
   "source": [
    "**Estimating Click Probabilities**"
   ]
  },
  {
   "cell_type": "code",
   "execution_count": 40,
   "id": "522edcea",
   "metadata": {},
   "outputs": [
    {
     "name": "stdout",
     "output_type": "stream",
     "text": [
      "Click Probability in Control Group: 0.1976\n",
      "Click Probability in Experimental Group: 0.4912\n",
      "Pooled Click Probability: 0.3444\n"
     ]
    }
   ],
   "source": [
    "# computing the estimate of click probability per group\n",
    "p_con_hat = X_con/N_con\n",
    "p_exp_hat = X_exp/N_exp\n",
    "print(\"Click Probability in Control Group:\", p_con_hat)\n",
    "print(\"Click Probability in Experimental Group:\", p_exp_hat)\n",
    "\n",
    "# computing the estimate of pooled clicked probability\n",
    "p_pooled_hat = (X_con+X_exp)/(N_con + N_exp)\n",
    "print(\"Pooled Click Probability:\", p_pooled_hat)"
   ]
  },
  {
   "cell_type": "markdown",
   "id": "7793a26a",
   "metadata": {},
   "source": [
    "This gives the click-through rate (CTR) for the control group — i.e., what percentage of users clicked."
   ]
  },
  {
   "cell_type": "markdown",
   "id": "2ed16eed",
   "metadata": {},
   "source": [
    "## Step 5: Compute pooled variance and standard error"
   ]
  },
  {
   "cell_type": "code",
   "execution_count": 41,
   "id": "bd8ada66",
   "metadata": {},
   "outputs": [
    {
     "name": "stdout",
     "output_type": "stream",
     "text": [
      "p^_pooled is:  0.3444\n",
      "pooled_variance is:  4.5157728e-05\n"
     ]
    }
   ],
   "source": [
    "# computing the estimate of pooled variance\n",
    "pooled_variance = p_pooled_hat * (1-p_pooled_hat) * (1/N_con + 1/N_exp)\n",
    "print(\"p^_pooled is: \", p_pooled_hat)\n",
    "print(\"pooled_variance is: \", pooled_variance)"
   ]
  },
  {
   "cell_type": "markdown",
   "id": "bac3faff",
   "metadata": {},
   "source": [
    "This give variance of the difference between group CTRs assuming null hypothesis is true."
   ]
  },
  {
   "cell_type": "markdown",
   "id": "a6354191",
   "metadata": {},
   "source": [
    "## Step 6: Z-test"
   ]
  },
  {
   "cell_type": "code",
   "execution_count": 42,
   "id": "7bbd1537",
   "metadata": {},
   "outputs": [
    {
     "name": "stdout",
     "output_type": "stream",
     "text": [
      "Standard Error is:  0.006719949999813987\n",
      "Test Statistic for 2-sample Z-test is: -43.690801272052184\n",
      "Z-critical value from Standard Normal distribution:  1.959963984540054\n",
      "P-value of the 2-sample Z-test:  0.0\n"
     ]
    }
   ],
   "source": [
    "# Step 1: Compute Standard Error\n",
    "SE = np.sqrt(pooled_variance)\n",
    "print(\"Standard Error is: \", SE)\n",
    "\n",
    "# Step 2: Compute Z-Test Statistic\n",
    "Test_stat = (p_con_hat - p_exp_hat) / SE\n",
    "print(\"Test Statistic for 2-sample Z-test is:\", Test_stat)\n",
    "\n",
    "# Step 3: Compute Critical Z-value (two-tailed)\n",
    "Z_crit = norm.ppf(1 - alpha/2)\n",
    "print(\"Z-critical value from Standard Normal distribution: \", Z_crit)\n",
    "\n",
    "# Step 4: Compute p-value for two-tailed Z-test\n",
    "p_value = 2 * norm.sf(abs(Test_stat))\n",
    "print(\"P-value of the 2-sample Z-test: \", round(p_value, 3))\n"
   ]
  },
  {
   "cell_type": "markdown",
   "id": "f1561a08",
   "metadata": {},
   "source": [
    "## Step 7: Confidence interval"
   ]
  },
  {
   "cell_type": "markdown",
   "id": "6e0c7109",
   "metadata": {},
   "source": [
    "Confidence Interval (CI):\n",
    "- Definition: A range of values that is likely to contain the true difference between the control and experiment groups\n",
    "- Interpretation:\n",
    "    • If CI does NOT include 0 → Statistically significant difference\n",
    "    • If CI includes 0 → No statistically significant difference"
   ]
  },
  {
   "cell_type": "code",
   "execution_count": 43,
   "id": "986645c3",
   "metadata": {},
   "outputs": [
    {
     "name": "stdout",
     "output_type": "stream",
     "text": [
      "Confidence Interval of the 2-sample Z-test is:  [0.28, 0.307]\n"
     ]
    }
   ],
   "source": [
    "# Confidence Interval for the difference in proportions\n",
    "CI = [round((p_exp_hat - p_con_hat) - SE * Z_crit, 3),\n",
    "      round((p_exp_hat - p_con_hat) + SE * Z_crit, 3)]\n",
    "print(\"Confidence Interval of the 2-sample Z-test is: \", CI)"
   ]
  },
  {
   "cell_type": "markdown",
   "id": "85a2dcc1",
   "metadata": {},
   "source": [
    "## Step 8: P-Value interpretation"
   ]
  },
  {
   "cell_type": "markdown",
   "id": "76c73c90",
   "metadata": {},
   "source": [
    "### P-Value – Evaluation Metric\n",
    "\n",
    "- **Role**: Determines if the observed effect is statistically significant\n",
    "- **Common Threshold**: 0.05 (5%) (significance level)\n",
    "- **How to interpret**:\n",
    "  - If **p ≤ 0.05**: The result is **statistically significant** — reject the null hypothesis.\n",
    "  - If **p > 0.05**: The result is **not statistically significant** — fail to reject the null."
   ]
  },
  {
   "cell_type": "code",
   "execution_count": 44,
   "id": "263e204c",
   "metadata": {},
   "outputs": [
    {
     "name": "stdout",
     "output_type": "stream",
     "text": [
      "P-value of the 2-sample Z-test: 0.0\n",
      "There is statistical significance, indicating that the observed difference is unlikely to have occurred by chance.\n"
     ]
    }
   ],
   "source": [
    "# Calculate p-value from Z-test\n",
    "p_value = 2 * norm.sf(abs(Test_stat))  # two-tailed test\n",
    "\n",
    "# Step 2: Define a function to check statistical significance\n",
    "def is_statistical_significance(p_value, alpha=0.05):\n",
    "    \"\"\"\n",
    "    We assess whether there is statistical significance based on the p-value and alpha.\n",
    "\n",
    "    Args:\n",
    "    - p_value (float): The p-value resulting from a statistical test.\n",
    "    - alpha (float, optional): The significance level threshold used to determine statistical significance. Defaults to 0.05.\n",
    "\n",
    "    Returns:\n",
    "    - Prints the assessment of statistical significance.\n",
    "    \"\"\"\n",
    "    print(f\"P-value of the 2-sample Z-test: {round(p_value, 3)}\")\n",
    "\n",
    "    if p_value <= alpha:\n",
    "        print(\"There is statistical significance, indicating that the observed difference is unlikely to have occurred by chance.\")\n",
    "    else:\n",
    "        print(\"There is no statistical significance; the observed difference could be due to random variation.\")\n",
    "\n",
    "# Step 3: Call the function\n",
    "is_statistical_significance(p_value, alpha)\n"
   ]
  },
  {
   "cell_type": "markdown",
   "id": "e1830782",
   "metadata": {},
   "source": [
    "## Step 9: Visualize Z-distribution"
   ]
  },
  {
   "cell_type": "code",
   "execution_count": 45,
   "id": "8781011d",
   "metadata": {},
   "outputs": [
    {
     "data": {
      "image/png": "[encoded data removed]",
      "text/plain": [
       "<Figure size 640x480 with 1 Axes>"
      ]
     },
     "metadata": {},
     "output_type": "display_data"
    }
   ],
   "source": [
    "# Parameters for the standard normal distribution\n",
    "mu = 0  # Mean of standard normal\n",
    "sigma = 1  # Standard deviation of standard normal\n",
    "x = np.linspace(mu - 3*sigma, mu + 3*sigma, 100)  # Z-values range\n",
    "y = norm.pdf(x, mu, sigma)  # Probability density function values\n",
    "\n",
    "# Pre-calculated test statistic and critical value\n",
    "Test_stat = -42.71  # Z-score calculated from A/B test\n",
    "Z_crit = 1.96       # Z-critical for alpha = 0.05 in two-tailed test\n",
    "\n",
    "# Plot standard normal curve\n",
    "plt.plot(x, y, label='Standard Normal Distribution')\n",
    "\n",
    "# Shade rejection regions (left and right tails)\n",
    "plt.fill_between(x, y, where=(x > Z_crit) | (x < -Z_crit), color='red', alpha=0.5, label='Rejection Region')\n",
    "\n",
    "# Add vertical line for test statistic\n",
    "plt.axvline(Test_stat, color='green', linestyle='dashed', linewidth=2, label=f'Test Statistic = {Test_stat:.2f}')\n",
    "\n",
    "# Add Z-critical boundaries (±Z_crit)\n",
    "plt.axvline(Z_crit, color='blue', linestyle='dashed', linewidth=1, label=f'Z-critical = {Z_crit:.2f}')\n",
    "plt.axvline(-Z_crit, color='blue', linestyle='dashed', linewidth=1)\n",
    "\n",
    "# Labels and title\n",
    "plt.xlabel('Z-value')\n",
    "plt.ylabel('Probability Density')\n",
    "plt.title('Gaussian Distribution with Rejection Region')\n",
    "plt.legend()\n",
    "plt.show()\n"
   ]
  },
  {
   "cell_type": "markdown",
   "id": "d077c6e3",
   "metadata": {},
   "source": [
    "## Step 10: Practical significance"
   ]
  },
  {
   "cell_type": "code",
   "execution_count": 46,
   "id": "3484d181",
   "metadata": {},
   "outputs": [],
   "source": [
    "def is_Practically_significant(delta, CI_95):\n",
    "    \"\"\"\n",
    "    We assess here if the difference between Control and Experimental group \n",
    "    is practically significant using the Minimum Detectable Effect (MDE).\n",
    "    \n",
    "    Arguments:\n",
    "    - delta (float): The Minimum Detectable Effect (MDE) considered for practical significance.\n",
    "    - CI_95 (tuple): A tuple representing the lower and upper bounds of the 95% Confidence Interval.\n",
    "    \n",
    "    Returns:\n",
    "    - Prints whether the experiment has practical significance and returns a boolean value.\n",
    "    \"\"\"\n",
    "\n",
    "    # Extract lower bound of 95% Confidence Interval\n",
    "    lower_bound_CI = CI_95[0]\n",
    "\n",
    "    # Check if the lower bound of the CI is greater than or equal to delta\n",
    "    if lower_bound_CI >= delta:\n",
    "        print(f\"We have practical significance! \\nWith MDE of {delta}, the difference between Control and Experimental group is practically significant.\")\n",
    "        return True\n",
    "    else:\n",
    "        print(f\"We don't have practical significance! \\nThe difference between Control and Experimental group is not practically significant.\")\n",
    "        return False\n"
   ]
  },
  {
   "cell_type": "markdown",
   "id": "b7a492c3",
   "metadata": {},
   "source": [
    "This function helps you test if the observed effect (difference) is practically meaningful."
   ]
  },
  {
   "cell_type": "code",
   "execution_count": 47,
   "id": "0d11c500",
   "metadata": {},
   "outputs": [
    {
     "name": "stdout",
     "output_type": "stream",
     "text": [
      "We have practical significance! \n",
      "With MDE of 0.05, the difference between Control and Experimental group is practically significant.\n"
     ]
    },
    {
     "data": {
      "text/plain": [
       "True"
      ]
     },
     "execution_count": 47,
     "metadata": {},
     "output_type": "execute_result"
    }
   ],
   "source": [
    "delta = 0.05  # Minimum effect size we care about\n",
    "CI_95 = CI    # Reusing previously calculated confidence interval\n",
    "\n",
    "is_Practically_significant(delta, CI_95)\n"
   ]
  }
 ],
 "metadata": {
  "kernelspec": {
   "display_name": "Python 3",
   "language": "python",
   "name": "python3"
  },
  "language_info": {
   "codemirror_mode": {
    "name": "ipython",
    "version": 3
   },
   "file_extension": ".py",
   "mimetype": "text/x-python",
   "name": "python",
   "nbconvert_exporter": "python",
   "pygments_lexer": "ipython3",
   "version": "3.11.4"
  }
 },
 "nbformat": 4,
 "nbformat_minor": 5
}
