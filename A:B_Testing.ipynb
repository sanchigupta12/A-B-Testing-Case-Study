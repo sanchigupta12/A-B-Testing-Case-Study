{
 "cells": [
  {
   "cell_type": "markdown",
   "id": "93511c57",
   "metadata": {},
   "source": [
    "# Simulating Real-World Data Issues: A/B Testing Dataset\n",
    "\n",
    "## Project Overview\n",
    "This case study focuses on conducting A/B testing to evaluate user engagement between two webpage versions — Control (con) and Experimental (exp). The key performance indicator (KPI) is the Click-Through Rate (CTR), and the objective is to assess whether the redesigned experimental version significantly improves engagement compared to the original.\n",
    "\n",
    "To make the analysis more reflective of production environments, we intentionally introduced real-world data quality issues into our synthetic dataset. These issues — including missing values, inconsistent labels, duplicates, and outliers — simulate common challenges encountered in digital product telemetry and allow for showcasing advanced data cleaning, transformation, and validation workflows.\n",
    "\n",
    "This project integrates principles of data analysis, data engineering, and statistical inference, making it a strong example of how to prepare, process, and analyze experimental data in an industry-relevant context."
   ]
  },
  {
   "cell_type": "code",
   "execution_count": 166,
   "id": "411444b0",
   "metadata": {},
   "outputs": [],
   "source": [
    "# Import required libraries\n",
    "import pandas as pd\n",
    "import numpy as np\n",
    "import matplotlib.pyplot as plt\n",
    "import seaborn as sns\n",
    "from scipy.stats import norm\n",
    "from datetime import datetime, timedelta"
   ]
  },
  {
   "cell_type": "markdown",
   "id": "2783ae84",
   "metadata": {},
   "source": [
    "## Step 1: Simulating Click Data for Control and Experimental Groups\n",
    "**Objective:** To simulate realistic click behavior for two groups:\n",
    "- Control group (`con`) with a lower click-through rate (CTR)\n",
    "- Experimental group (`exp`) with a higher CTR\n",
    "\n",
    "**Why Simulate?**\n",
    "Simulating allows us to model controlled A/B experiments when real-world data is unavailable, and to test hypotheses and code logic under known conditions."
   ]
  },
  {
   "cell_type": "code",
   "execution_count": 167,
   "id": "43821141",
   "metadata": {},
   "outputs": [],
   "source": [
    "# Define sample size for each group\n",
    "N_exp = 100_000  # Experimental group\n",
    "N_con = 100_000  # Control group\n",
    "\n",
    "\n",
    "# Generate binary click data using binomial distribution\n",
    "click_exp = pd.Series(np.random.binomial(1, 0.5, size=N_exp))  # 50% CTR\n",
    "click_con = pd.Series(np.random.binomial(1, 0.2, size=N_con))  # 20% CTR\n",
    "\n",
    "# Create group identifiers\n",
    "exp_id = pd.Series(np.repeat(\"exp\", N_exp))\n",
    "con_id = pd.Series(np.repeat(\"con\", N_con))\n",
    "\n",
    "# Create dataframes for each group\n",
    "df_exp = pd.concat([click_exp, exp_id], axis=1)\n",
    "df_con = pd.concat([click_con, con_id], axis=1)\n",
    "\n",
    "# Rename columns\n",
    "df_exp.columns = [\"click\", \"group\"]\n",
    "df_con.columns = [\"click\", \"group\"]\n",
    "\n",
    "# Combine both groups into a single A/B test dataset\n",
    "df_ab_test = pd.concat([df_exp, df_con], axis=0).reset_index(drop=True)\n",
    "\n",
    "# Add session_time (in minutes) using an exponential distribution to simulate real-world skew\n",
    "df_ab_test['session_time'] = np.random.exponential(scale=5, size=len(df_ab_test))\n",
    "\n",
    "\n",
    "# Generate click_time column (random timestamps in a 2-week period)\n",
    "start_date = datetime(2024, 1, 1)\n",
    "df_ab_test['click_time'] = [\n",
    "    start_date + timedelta(minutes=np.random.randint(0, 60*24*14))  # random minute in 14 days\n",
    "    for _ in range(len(df_ab_test))\n",
    "]\n",
    "\n",
    "# Add device_type column (mobile or desktop, weighted)\n",
    "df_ab_test['device_type'] = np.random.choice(['mobile', 'desktop'], size=len(df_ab_test), p=[0.7, 0.3])\n",
    "\n",
    "# Add referral_source column\n",
    "df_ab_test['referral_source'] = np.random.choice(\n",
    "    ['email', 'social', 'search', 'direct', 'ads'],\n",
    "    size=len(df_ab_test),\n",
    "    p=[0.25, 0.20, 0.30, 0.15, 0.10]\n",
    ")"
   ]
  },
  {
   "cell_type": "code",
   "execution_count": 168,
   "id": "581e82fe",
   "metadata": {},
   "outputs": [
    {
     "data": {
      "text/html": [
       "<div>\n",
       "<style scoped>\n",
       "    .dataframe tbody tr th:only-of-type {\n",
       "        vertical-align: middle;\n",
       "    }\n",
       "\n",
       "    .dataframe tbody tr th {\n",
       "        vertical-align: top;\n",
       "    }\n",
       "\n",
       "    .dataframe thead th {\n",
       "        text-align: right;\n",
       "    }\n",
       "</style>\n",
       "<table border=\"1\" class=\"dataframe\">\n",
       "  <thead>\n",
       "    <tr style=\"text-align: right;\">\n",
       "      <th></th>\n",
       "      <th>click</th>\n",
       "      <th>group</th>\n",
       "      <th>session_time</th>\n",
       "      <th>click_time</th>\n",
       "      <th>device_type</th>\n",
       "      <th>referral_source</th>\n",
       "    </tr>\n",
       "  </thead>\n",
       "  <tbody>\n",
       "    <tr>\n",
       "      <th>0</th>\n",
       "      <td>1</td>\n",
       "      <td>exp</td>\n",
       "      <td>2.722875</td>\n",
       "      <td>2024-01-05 12:42:00</td>\n",
       "      <td>mobile</td>\n",
       "      <td>social</td>\n",
       "    </tr>\n",
       "    <tr>\n",
       "      <th>1</th>\n",
       "      <td>0</td>\n",
       "      <td>exp</td>\n",
       "      <td>0.882501</td>\n",
       "      <td>2024-01-01 19:39:00</td>\n",
       "      <td>mobile</td>\n",
       "      <td>direct</td>\n",
       "    </tr>\n",
       "    <tr>\n",
       "      <th>2</th>\n",
       "      <td>0</td>\n",
       "      <td>exp</td>\n",
       "      <td>3.842508</td>\n",
       "      <td>2024-01-08 03:20:00</td>\n",
       "      <td>desktop</td>\n",
       "      <td>email</td>\n",
       "    </tr>\n",
       "    <tr>\n",
       "      <th>3</th>\n",
       "      <td>0</td>\n",
       "      <td>exp</td>\n",
       "      <td>2.170972</td>\n",
       "      <td>2024-01-13 10:07:00</td>\n",
       "      <td>desktop</td>\n",
       "      <td>ads</td>\n",
       "    </tr>\n",
       "    <tr>\n",
       "      <th>4</th>\n",
       "      <td>0</td>\n",
       "      <td>exp</td>\n",
       "      <td>1.079425</td>\n",
       "      <td>2024-01-14 15:21:00</td>\n",
       "      <td>mobile</td>\n",
       "      <td>email</td>\n",
       "    </tr>\n",
       "  </tbody>\n",
       "</table>\n",
       "</div>"
      ],
      "text/plain": [
       "   click group  session_time          click_time device_type referral_source\n",
       "0      1   exp      2.722875 2024-01-05 12:42:00      mobile          social\n",
       "1      0   exp      0.882501 2024-01-01 19:39:00      mobile          direct\n",
       "2      0   exp      3.842508 2024-01-08 03:20:00     desktop           email\n",
       "3      0   exp      2.170972 2024-01-13 10:07:00     desktop             ads\n",
       "4      0   exp      1.079425 2024-01-14 15:21:00      mobile           email"
      ]
     },
     "execution_count": 168,
     "metadata": {},
     "output_type": "execute_result"
    }
   ],
   "source": [
    "df = df_ab_test.copy()\n",
    "\n",
    "# Preview the simulated dataset\n",
    "df.head()"
   ]
  },
  {
   "cell_type": "markdown",
   "id": "2a4ac795",
   "metadata": {},
   "source": [
    "## Simulating Real-World Data Issues\n",
    "\n",
    "To emulate real-world messiness in digital product logs, we introduced a variety of data quality issues into our synthetic A/B testing dataset. These help demonstrate robust data cleaning, profiling, and transformation skills required in both data analyst and data engineer roles."
   ]
  },
  {
   "cell_type": "markdown",
   "id": "e48e0e26",
   "metadata": {},
   "source": [
    "-  Introduced Null Values"
   ]
  },
  {
   "cell_type": "code",
   "execution_count": 169,
   "id": "09ee4cf5",
   "metadata": {},
   "outputs": [],
   "source": [
    "# To simulate missing values due to tracking errors or incomplete experiment tagging\n",
    "df.loc[df.sample(frac=0.01).index, 'click_time'] = None\n",
    "df.loc[df.sample(frac=0.01).index, 'group'] = None\n",
    "df.loc[df.sample(frac=0.005).index, 'referral_source'] = None    "
   ]
  },
  {
   "cell_type": "markdown",
   "id": "58784063",
   "metadata": {},
   "source": [
    "- Injected Inconsistent Group Labels"
   ]
  },
  {
   "cell_type": "code",
   "execution_count": 170,
   "id": "a2244780",
   "metadata": {},
   "outputs": [],
   "source": [
    "# To mimic inconsistent labeling from manual input or data ingestion pipelines.\n",
    "df.loc[df.sample(frac=0.005).index, 'group'] = 'a'\n",
    "df.loc[df.sample(frac=0.005).index, 'group'] = 'A '\n",
    "\n",
    "# Inconsistent group labels (0.5% lowercase, 0.5% trailing space)\n",
    "df.loc[df.sample(frac=0.005).index, 'group'] = 'Exp'\n",
    "df.loc[df.sample(frac=0.005).index, 'group'] = 'con '\n",
    "\n",
    "# Inconsistent casing in device_type\n",
    "df.loc[df.sample(frac=0.005).index, 'device_type'] = 'MOBILE'\n",
    "df.loc[df.sample(frac=0.005).index, 'device_type'] = 'Desktop'\n",
    "\n",
    "# Inconsistent referral_source values\n",
    "df.loc[df.sample(frac=0.005).index, 'referral_source'] = ' Social '   # with spaces\n",
    "df.loc[df.sample(frac=0.005).index, 'referral_source'] = 'seach'      # typo\n"
   ]
  },
  {
   "cell_type": "markdown",
   "id": "65bb6247",
   "metadata": {},
   "source": [
    "- Added Duplicate Records"
   ]
  },
  {
   "cell_type": "code",
   "execution_count": 171,
   "id": "bd583324",
   "metadata": {},
   "outputs": [],
   "source": [
    "# To simulate duplication that may occur due to logging retries, ETL bugs, or merging errors.\n",
    "duplicates = df.sample(n=20, random_state=42)\n",
    "df = pd.concat([df, duplicates], ignore_index=True)\n"
   ]
  },
  {
   "cell_type": "markdown",
   "id": "1ce80b90",
   "metadata": {},
   "source": [
    "- Introduced Outliers in Session Time"
   ]
  },
  {
   "cell_type": "code",
   "execution_count": 172,
   "id": "2896e19c",
   "metadata": {},
   "outputs": [],
   "source": [
    "# To simulate tracking anomalies like long-idle sessions or bots that skew summary statistics.\n",
    "df.loc[df.sample(frac=0.01).index, 'session_time'] = df['session_time'].max() * 10"
   ]
  },
  {
   "cell_type": "markdown",
   "id": "3479ebf9",
   "metadata": {},
   "source": [
    "## Step 2- Exploratory Data Analysis & Data Cleaning\n",
    "\n",
    "In this stage, we focus on both exploring and cleaning the simulated A/B testing dataset to ensure it is analysis-ready. The goal is to ensure the data is consistent, complete, and analysis-ready. This would invlove handlings null values, inconsistencies, detecting outliers, and duplicate entries. "
   ]
  },
  {
   "cell_type": "code",
   "execution_count": 173,
   "id": "f0e8c06b",
   "metadata": {},
   "outputs": [
    {
     "data": {
      "text/html": [
       "<div>\n",
       "<style scoped>\n",
       "    .dataframe tbody tr th:only-of-type {\n",
       "        vertical-align: middle;\n",
       "    }\n",
       "\n",
       "    .dataframe tbody tr th {\n",
       "        vertical-align: top;\n",
       "    }\n",
       "\n",
       "    .dataframe thead th {\n",
       "        text-align: right;\n",
       "    }\n",
       "</style>\n",
       "<table border=\"1\" class=\"dataframe\">\n",
       "  <thead>\n",
       "    <tr style=\"text-align: right;\">\n",
       "      <th></th>\n",
       "      <th>click</th>\n",
       "      <th>group</th>\n",
       "      <th>session_time</th>\n",
       "      <th>click_time</th>\n",
       "      <th>device_type</th>\n",
       "      <th>referral_source</th>\n",
       "    </tr>\n",
       "  </thead>\n",
       "  <tbody>\n",
       "    <tr>\n",
       "      <th>0</th>\n",
       "      <td>1</td>\n",
       "      <td>exp</td>\n",
       "      <td>2.722875</td>\n",
       "      <td>2024-01-05 12:42:00</td>\n",
       "      <td>mobile</td>\n",
       "      <td>social</td>\n",
       "    </tr>\n",
       "    <tr>\n",
       "      <th>1</th>\n",
       "      <td>0</td>\n",
       "      <td>exp</td>\n",
       "      <td>651.784024</td>\n",
       "      <td>2024-01-01 19:39:00</td>\n",
       "      <td>mobile</td>\n",
       "      <td>direct</td>\n",
       "    </tr>\n",
       "    <tr>\n",
       "      <th>2</th>\n",
       "      <td>0</td>\n",
       "      <td>exp</td>\n",
       "      <td>3.842508</td>\n",
       "      <td>2024-01-08 03:20:00</td>\n",
       "      <td>desktop</td>\n",
       "      <td>email</td>\n",
       "    </tr>\n",
       "    <tr>\n",
       "      <th>3</th>\n",
       "      <td>0</td>\n",
       "      <td>exp</td>\n",
       "      <td>2.170972</td>\n",
       "      <td>2024-01-13 10:07:00</td>\n",
       "      <td>desktop</td>\n",
       "      <td>ads</td>\n",
       "    </tr>\n",
       "    <tr>\n",
       "      <th>4</th>\n",
       "      <td>0</td>\n",
       "      <td>exp</td>\n",
       "      <td>1.079425</td>\n",
       "      <td>2024-01-14 15:21:00</td>\n",
       "      <td>mobile</td>\n",
       "      <td>email</td>\n",
       "    </tr>\n",
       "  </tbody>\n",
       "</table>\n",
       "</div>"
      ],
      "text/plain": [
       "   click group  session_time          click_time device_type referral_source\n",
       "0      1   exp      2.722875 2024-01-05 12:42:00      mobile          social\n",
       "1      0   exp    651.784024 2024-01-01 19:39:00      mobile          direct\n",
       "2      0   exp      3.842508 2024-01-08 03:20:00     desktop           email\n",
       "3      0   exp      2.170972 2024-01-13 10:07:00     desktop             ads\n",
       "4      0   exp      1.079425 2024-01-14 15:21:00      mobile           email"
      ]
     },
     "execution_count": 173,
     "metadata": {},
     "output_type": "execute_result"
    }
   ],
   "source": [
    "df.head()"
   ]
  },
  {
   "cell_type": "markdown",
   "id": "6403224a",
   "metadata": {},
   "source": [
    "- Descriptive Analysis"
   ]
  },
  {
   "cell_type": "code",
   "execution_count": 174,
   "id": "2f2899c3",
   "metadata": {},
   "outputs": [
    {
     "name": "stdout",
     "output_type": "stream",
     "text": [
      "<class 'pandas.core.frame.DataFrame'>\n",
      "RangeIndex: 200020 entries, 0 to 200019\n",
      "Data columns (total 6 columns):\n",
      " #   Column           Non-Null Count   Dtype         \n",
      "---  ------           --------------   -----         \n",
      " 0   click            200020 non-null  int64         \n",
      " 1   group            198056 non-null  object        \n",
      " 2   session_time     200020 non-null  float64       \n",
      " 3   click_time       198020 non-null  datetime64[ns]\n",
      " 4   device_type      200020 non-null  object        \n",
      " 5   referral_source  199030 non-null  object        \n",
      "dtypes: datetime64[ns](1), float64(1), int64(1), object(3)\n",
      "memory usage: 9.2+ MB\n"
     ]
    }
   ],
   "source": [
    "df.info()"
   ]
  },
  {
   "cell_type": "code",
   "execution_count": 175,
   "id": "67a0e97a",
   "metadata": {},
   "outputs": [
    {
     "name": "stdout",
     "output_type": "stream",
     "text": [
      "\n",
      " Numeric Summary:\n"
     ]
    },
    {
     "data": {
      "text/html": [
       "<div>\n",
       "<style scoped>\n",
       "    .dataframe tbody tr th:only-of-type {\n",
       "        vertical-align: middle;\n",
       "    }\n",
       "\n",
       "    .dataframe tbody tr th {\n",
       "        vertical-align: top;\n",
       "    }\n",
       "\n",
       "    .dataframe thead th {\n",
       "        text-align: right;\n",
       "    }\n",
       "</style>\n",
       "<table border=\"1\" class=\"dataframe\">\n",
       "  <thead>\n",
       "    <tr style=\"text-align: right;\">\n",
       "      <th></th>\n",
       "      <th>click</th>\n",
       "      <th>session_time</th>\n",
       "      <th>click_time</th>\n",
       "    </tr>\n",
       "  </thead>\n",
       "  <tbody>\n",
       "    <tr>\n",
       "      <th>count</th>\n",
       "      <td>200020.000000</td>\n",
       "      <td>200020.000000</td>\n",
       "      <td>198020</td>\n",
       "    </tr>\n",
       "    <tr>\n",
       "      <th>mean</th>\n",
       "      <td>0.349415</td>\n",
       "      <td>11.453932</td>\n",
       "      <td>2024-01-08 00:09:09.633269248</td>\n",
       "    </tr>\n",
       "    <tr>\n",
       "      <th>min</th>\n",
       "      <td>0.000000</td>\n",
       "      <td>0.000005</td>\n",
       "      <td>2024-01-01 00:00:00</td>\n",
       "    </tr>\n",
       "    <tr>\n",
       "      <th>25%</th>\n",
       "      <td>0.000000</td>\n",
       "      <td>1.461162</td>\n",
       "      <td>2024-01-04 11:39:00</td>\n",
       "    </tr>\n",
       "    <tr>\n",
       "      <th>50%</th>\n",
       "      <td>0.000000</td>\n",
       "      <td>3.514671</td>\n",
       "      <td>2024-01-08 00:25:00</td>\n",
       "    </tr>\n",
       "    <tr>\n",
       "      <th>75%</th>\n",
       "      <td>1.000000</td>\n",
       "      <td>7.032664</td>\n",
       "      <td>2024-01-11 12:24:00</td>\n",
       "    </tr>\n",
       "    <tr>\n",
       "      <th>max</th>\n",
       "      <td>1.000000</td>\n",
       "      <td>651.784024</td>\n",
       "      <td>2024-01-14 23:59:00</td>\n",
       "    </tr>\n",
       "    <tr>\n",
       "      <th>std</th>\n",
       "      <td>0.476786</td>\n",
       "      <td>64.543308</td>\n",
       "      <td>NaN</td>\n",
       "    </tr>\n",
       "  </tbody>\n",
       "</table>\n",
       "</div>"
      ],
      "text/plain": [
       "               click   session_time                     click_time\n",
       "count  200020.000000  200020.000000                         198020\n",
       "mean        0.349415      11.453932  2024-01-08 00:09:09.633269248\n",
       "min         0.000000       0.000005            2024-01-01 00:00:00\n",
       "25%         0.000000       1.461162            2024-01-04 11:39:00\n",
       "50%         0.000000       3.514671            2024-01-08 00:25:00\n",
       "75%         1.000000       7.032664            2024-01-11 12:24:00\n",
       "max         1.000000     651.784024            2024-01-14 23:59:00\n",
       "std         0.476786      64.543308                            NaN"
      ]
     },
     "metadata": {},
     "output_type": "display_data"
    }
   ],
   "source": [
    "print(\"\\n Numeric Summary:\")\n",
    "display(df.describe())"
   ]
  },
  {
   "cell_type": "markdown",
   "id": "bd28cedf",
   "metadata": {},
   "source": [
    "- Check for Duplicates"
   ]
  },
  {
   "cell_type": "code",
   "execution_count": 176,
   "id": "bb711179",
   "metadata": {},
   "outputs": [
    {
     "name": "stdout",
     "output_type": "stream",
     "text": [
      " Duplicate rows found: 30\n"
     ]
    }
   ],
   "source": [
    "duplicate_rows = df[df.duplicated()]\n",
    "print(f\" Duplicate rows found: {len(duplicate_rows)}\")\n"
   ]
  },
  {
   "cell_type": "code",
   "execution_count": 177,
   "id": "a3f2d614",
   "metadata": {},
   "outputs": [],
   "source": [
    "df = df.drop_duplicates()"
   ]
  },
  {
   "cell_type": "code",
   "execution_count": 178,
   "id": "f83b396d",
   "metadata": {},
   "outputs": [
    {
     "name": "stdout",
     "output_type": "stream",
     "text": [
      " Duplicate rows found: 0\n"
     ]
    }
   ],
   "source": [
    "duplicate_rows = df[df.duplicated()]\n",
    "print(f\" Duplicate rows found: {len(duplicate_rows)}\")"
   ]
  },
  {
   "cell_type": "markdown",
   "id": "56118e42",
   "metadata": {},
   "source": [
    "- Handling Missing Values"
   ]
  },
  {
   "cell_type": "code",
   "execution_count": 179,
   "id": "930518f5",
   "metadata": {},
   "outputs": [
    {
     "name": "stdout",
     "output_type": "stream",
     "text": [
      "\n",
      " Missing Values:\n"
     ]
    },
    {
     "data": {
      "text/plain": [
       "click                 0\n",
       "group              1964\n",
       "session_time          0\n",
       "click_time         1992\n",
       "device_type           0\n",
       "referral_source     990\n",
       "dtype: int64"
      ]
     },
     "execution_count": 179,
     "metadata": {},
     "output_type": "execute_result"
    }
   ],
   "source": [
    "print(\"\\n Missing Values:\")\n",
    "df.isnull().sum()"
   ]
  },
  {
   "cell_type": "code",
   "execution_count": 180,
   "id": "52bcdd01",
   "metadata": {},
   "outputs": [
    {
     "name": "stdout",
     "output_type": "stream",
     "text": [
      "Missing rows in critical columns: 3936 (1.97%)\n",
      "✅ Dropped 3936 rows due to missing values in ['group', 'click_time']\n"
     ]
    }
   ],
   "source": [
    "# Total rows in dataset\n",
    "total_rows = len(df)\n",
    "\n",
    "# Columns you consider critical\n",
    "critical_cols = ['group', 'click_time']\n",
    "\n",
    "# Identify rows with missing values in any of the critical columns\n",
    "missing_rows = df[df[critical_cols].isnull().any(axis=1)]\n",
    "\n",
    "# Calculate how many rows would be dropped\n",
    "num_missing = len(missing_rows)\n",
    "percent_missing = num_missing / total_rows * 100\n",
    "\n",
    "print(f\"Missing rows in critical columns: {num_missing} ({round(percent_missing, 2)}%)\")\n",
    "\n",
    "# Drop only if < 10% of data\n",
    "if percent_missing < 10:\n",
    "    df = df.dropna(subset=critical_cols)\n",
    "    print(f\"✅ Dropped {num_missing} rows due to missing values in {critical_cols}\")\n",
    "else:\n",
    "    print(\"⚠️ Too many rows with missing values. Consider imputation or alternative strategy.\")\n"
   ]
  },
  {
   "cell_type": "code",
   "execution_count": 181,
   "id": "5a1ce184",
   "metadata": {},
   "outputs": [
    {
     "data": {
      "text/plain": [
       "click                0\n",
       "group                0\n",
       "session_time         0\n",
       "click_time           0\n",
       "device_type          0\n",
       "referral_source    969\n",
       "dtype: int64"
      ]
     },
     "execution_count": 181,
     "metadata": {},
     "output_type": "execute_result"
    }
   ],
   "source": [
    "df.isnull().sum()"
   ]
  },
  {
   "cell_type": "markdown",
   "id": "6a0c4ecd",
   "metadata": {},
   "source": [
    "- Checking Data Inconsistencies"
   ]
  },
  {
   "cell_type": "code",
   "execution_count": 182,
   "id": "cbe1fca8",
   "metadata": {},
   "outputs": [
    {
     "name": "stdout",
     "output_type": "stream",
     "text": [
      "\n",
      "Unique values in click:\n",
      "[1 0]\n",
      "\n",
      "Unique values in group:\n",
      "['exp' 'a' 'A ' 'Exp' 'con ' 'con']\n",
      "\n",
      "Unique values in device_type:\n",
      "['mobile' 'desktop' 'Desktop' 'MOBILE']\n",
      "\n",
      "Unique values in referral_source:\n",
      "['social' 'direct' 'email' 'ads' 'search' None 'seach' ' Social ']\n"
     ]
    }
   ],
   "source": [
    "# Check unique values before cleaning\n",
    "for col in ['click','group', 'device_type', 'referral_source']:\n",
    "    print(f\"\\nUnique values in {col}:\")\n",
    "    print(df[col].unique())\n"
   ]
  },
  {
   "cell_type": "code",
   "execution_count": 183,
   "id": "bf6e8100",
   "metadata": {},
   "outputs": [],
   "source": [
    "df['group'] = df['group'].str.strip().str.lower()\n",
    "df['device_type'] = df['device_type'].str.strip().str.lower()\n",
    "df['referral_source'] = df['referral_source'].str.strip().str.lower()\n",
    "df = df[df['group'].isin(['exp', 'con'])]\n"
   ]
  },
  {
   "cell_type": "markdown",
   "id": "c35e2df2",
   "metadata": {},
   "source": [
    "- Detecting Outliers"
   ]
  },
  {
   "cell_type": "code",
   "execution_count": 184,
   "id": "dbb3c9f3",
   "metadata": {},
   "outputs": [
    {
     "data": {
      "image/png": "[encoded data removed]",
      "text/plain": [
       "<Figure size 600x400 with 1 Axes>"
      ]
     },
     "metadata": {},
     "output_type": "display_data"
    }
   ],
   "source": [
    "plt.figure(figsize=(6, 4))\n",
    "sns.boxplot(x=df['session_time'])\n",
    "plt.title(\"Boxplot of Session Time\")\n",
    "plt.tight_layout()\n",
    "plt.show()\n"
   ]
  },
  {
   "cell_type": "markdown",
   "id": "9f68060b",
   "metadata": {},
   "source": [
    "- Handling outliers"
   ]
  },
  {
   "cell_type": "code",
   "execution_count": 185,
   "id": "d8af60cb",
   "metadata": {},
   "outputs": [],
   "source": [
    "Q1 = df['session_time'].quantile(0.25)\n",
    "Q3 = df['session_time'].quantile(0.75)\n",
    "IQR = Q3 - Q1\n",
    "\n",
    "lower_bound = Q1 - 1.5 * IQR\n",
    "upper_bound = Q3 + 1.5 * IQR\n",
    "\n",
    "df = df[(df['session_time'] >= lower_bound) & (df['session_time'] <= upper_bound)]"
   ]
  },
  {
   "cell_type": "markdown",
   "id": "fd912f62",
   "metadata": {},
   "source": [
    "### Exploratory Analysis"
   ]
  },
  {
   "cell_type": "markdown",
   "id": "2539f4ba",
   "metadata": {},
   "source": [
    "- Click Distribution in EXP & CON groups"
   ]
  },
  {
   "cell_type": "code",
   "execution_count": 186,
   "id": "47c8f175",
   "metadata": {},
   "outputs": [
    {
     "data": {
      "image/png": "[encoded data removed]",
      "text/plain": [
       "<Figure size 1000x600 with 1 Axes>"
      ]
     },
     "metadata": {},
     "output_type": "display_data"
    }
   ],
   "source": [
    "import seaborn as sns\n",
    "import matplotlib.pyplot as plt\n",
    "\n",
    "df['click'] = df['click'].astype(str)\n",
    "\n",
    "\n",
    "palette = {'0': 'yellow', '1': 'green'} \n",
    "\n",
    "plt.figure(figsize=(10, 6))\n",
    "ax = sns.countplot(x='group', hue='click', data=df, palette=palette)\n",
    "plt.title('Click Distribution in Experimental and Control Groups')\n",
    "plt.xlabel('Group')\n",
    "plt.ylabel('Count')\n",
    "plt.legend(title='Click', labels=['No', 'Yes'])\n",
    "\n",
    "# Annotate percentage labels\n",
    "group_counts = df.groupby('group').size()\n",
    "\n",
    "for bar in ax.patches:\n",
    "    height = bar.get_height()\n",
    "    group_label = bar.get_x() + bar.get_width() / 2\n",
    "    group_index = round(bar.get_x() + bar.get_width() / 2)\n",
    "    group_name = ax.get_xticklabels()[group_index].get_text()\n",
    "    total = group_counts.loc[group_name]\n",
    "    pct = 100 * height / total\n",
    "    ax.text(bar.get_x() + bar.get_width() / 2., height + 5, f'{pct:.1f}%', \n",
    "            ha=\"center\", fontsize=10, color='black')\n",
    "\n",
    "plt.tight_layout()\n",
    "plt.show()\n",
    "\n"
   ]
  },
  {
   "cell_type": "markdown",
   "id": "8eac0791",
   "metadata": {},
   "source": [
    "**Interpretation:** The experimental group had a significantly higher click-through rate than the control group. This suggests that the new version (experimental condition) improved user engagement and may be more effective."
   ]
  },
  {
   "cell_type": "markdown",
   "id": "a8561edc",
   "metadata": {},
   "source": [
    "- Click-Through Rate by Group"
   ]
  },
  {
   "cell_type": "code",
   "execution_count": 187,
   "id": "14d65d72",
   "metadata": {},
   "outputs": [
    {
     "data": {
      "image/png": "[encoded data removed]",
      "text/plain": [
       "<Figure size 600x400 with 1 Axes>"
      ]
     },
     "metadata": {},
     "output_type": "display_data"
    }
   ],
   "source": [
    "df['click'] = df['click'].astype(int)\n",
    "\n",
    "plt.figure(figsize=(6, 4))\n",
    "sns.barplot(x='group', y='click', data=df, estimator=lambda x: sum(x)/len(x))  # mean = CTR\n",
    "plt.title(\"Click-Through Rate by Group\")\n",
    "plt.ylabel(\"CTR\")\n",
    "plt.tight_layout()\n",
    "plt.show()\n"
   ]
  },
  {
   "cell_type": "markdown",
   "id": "2e7f08e8",
   "metadata": {},
   "source": [
    "**Interpretation:** Experimental group (exp) has a CTR close to 0.5\n",
    "\n",
    "Control group (con) has a CTR close to 0.2\n",
    "\n",
    "The small black lines show very tight confidence intervals, implying high confidence in the difference"
   ]
  },
  {
   "cell_type": "markdown",
   "id": "b7a63dd9",
   "metadata": {},
   "source": [
    "- CTR Breakdown by Segment (Devic Type)"
   ]
  },
  {
   "cell_type": "code",
   "execution_count": 188,
   "id": "b26e5931",
   "metadata": {},
   "outputs": [
    {
     "data": {
      "image/png": "[encoded data removed]",
      "text/plain": [
       "<Figure size 640x480 with 1 Axes>"
      ]
     },
     "metadata": {},
     "output_type": "display_data"
    }
   ],
   "source": [
    "sns.barplot(x='device_type', y='click', hue='group', data=df)\n",
    "plt.show()"
   ]
  },
  {
   "cell_type": "markdown",
   "id": "4313d297",
   "metadata": {},
   "source": [
    "**Interpretation:** The experimental version of the webpage leads to a substantial and consistent increase in user clicks on both mobile and desktop platforms. This indicates that the treatment is effective across devices, suggesting it can be safely rolled out without device-specific adjustments."
   ]
  },
  {
   "cell_type": "markdown",
   "id": "079ab610",
   "metadata": {},
   "source": [
    "- CTR Breakdown by Segment (Referral Source)"
   ]
  },
  {
   "cell_type": "code",
   "execution_count": 189,
   "id": "84869c40",
   "metadata": {},
   "outputs": [
    {
     "data": {
      "text/plain": [
       "<Axes: xlabel='referral_source', ylabel='click'>"
      ]
     },
     "execution_count": 189,
     "metadata": {},
     "output_type": "execute_result"
    },
    {
     "data": {
      "image/png": "[encoded data removed]",
      "text/plain": [
       "<Figure size 640x480 with 1 Axes>"
      ]
     },
     "metadata": {},
     "output_type": "display_data"
    }
   ],
   "source": [
    "sns.barplot(x='referral_source', y='click', hue='group', data=df)"
   ]
  },
  {
   "cell_type": "markdown",
   "id": "b886cd17",
   "metadata": {},
   "source": [
    "**Interpretation:**\n",
    "The experimental design significantly boosts user engagement across all referral sources. The consistent lift suggests the improvement is not dependent on how users arrive at the site.\n",
    "The anomaly in 'seach' highlights the importance of data cleaning and presents a strong case for category normalization in real-world pipelines."
   ]
  },
  {
   "cell_type": "markdown",
   "id": "07d22812",
   "metadata": {},
   "source": [
    "- Time-Based Plot"
   ]
  },
  {
   "cell_type": "code",
   "execution_count": 190,
   "id": "268b9736",
   "metadata": {},
   "outputs": [
    {
     "data": {
      "image/png": "[encoded data removed]",
      "text/plain": [
       "<Figure size 1000x400 with 1 Axes>"
      ]
     },
     "metadata": {},
     "output_type": "display_data"
    }
   ],
   "source": [
    "df['click_time'] = pd.to_datetime(df['click_time'])\n",
    "\n",
    "# Plot number of clicks per day\n",
    "clicks_per_day = df[df['click'] == 1].groupby(df['click_time'].dt.date).size()\n",
    "\n",
    "plt.figure(figsize=(10, 4))\n",
    "clicks_per_day.plot()\n",
    "plt.title(\"Daily Click Volume\")\n",
    "plt.xlabel(\"Date\")\n",
    "plt.ylabel(\"Number of Clicks\")\n",
    "plt.tight_layout()\n",
    "plt.show()\n"
   ]
  },
  {
   "cell_type": "markdown",
   "id": "22dc2620",
   "metadata": {},
   "source": [
    "## Step 3: Total clicks"
   ]
  },
  {
   "cell_type": "code",
   "execution_count": 191,
   "id": "68b37e8f",
   "metadata": {},
   "outputs": [
    {
     "name": "stdout",
     "output_type": "stream",
     "text": [
      "Total users in control:  91725\n",
      "Number of Clicks in Control:  18423\n",
      "Total users in experimental:  91629\n",
      "Number of Clicks in Experimental:  45701\n"
     ]
    }
   ],
   "source": [
    "# Calculate the total number of clicks in each group\n",
    "X_exp = df[df['group'] == 'exp']['click'].sum()\n",
    "X_con = df[df['group'] == 'con']['click'].sum()\n",
    "\n",
    "n_exp = df[df['group'] == 'exp'].shape[0]\n",
    "n_con = df[df['group'] == 'con'].shape[0]\n",
    "\n",
    "# Print group-wise click totals\n",
    "print(\"Total users in control: \", n_con)\n",
    "print(\"Number of Clicks in Control: \", X_con)\n",
    "print(\"Total users in experimental: \", n_exp)\n",
    "print(\"Number of Clicks in Experimental: \", X_exp)"
   ]
  },
  {
   "cell_type": "markdown",
   "id": "bb90eb84",
   "metadata": {},
   "source": [
    "This gives the actual count of successful events (clicks)."
   ]
  },
  {
   "cell_type": "markdown",
   "id": "c0837fd2",
   "metadata": {},
   "source": [
    "## Step 4: Hypothesis testing setup"
   ]
  },
  {
   "cell_type": "code",
   "execution_count": 192,
   "id": "5a9a69d1",
   "metadata": {},
   "outputs": [
    {
     "name": "stdout",
     "output_type": "stream",
     "text": [
      "Alpha: significance level is: 0.05\n"
     ]
    }
   ],
   "source": [
    "# statistical significance level of the test\n",
    "alpha = 0.05\n",
    "print(\"Alpha: significance level is:\", alpha )"
   ]
  },
  {
   "cell_type": "markdown",
   "id": "127fd1ae",
   "metadata": {},
   "source": [
    "**Null Hypothesis (H₀):** There is no difference in CTR between the experimental and control groups.\n",
    "**Alternative Hypothesis (H₁):** The new design improves user engagement (CTR is higher)."
   ]
  },
  {
   "cell_type": "markdown",
   "id": "b9bea73b",
   "metadata": {},
   "source": [
    "## Step 5: Z-test"
   ]
  },
  {
   "cell_type": "code",
   "execution_count": 193,
   "id": "770b495c",
   "metadata": {},
   "outputs": [
    {
     "name": "stdout",
     "output_type": "stream",
     "text": [
      "CTR (Experimental): 0.4988\n",
      "CTR (Control): 0.2009\n",
      "Z-statistic: 133.75\n",
      "P-value: 0.0000\n"
     ]
    }
   ],
   "source": [
    "from statsmodels.stats.proportion import proportions_ztest\n",
    "\n",
    "# One-tailed Z-test (is exp > con?)\n",
    "z_stat, p_val = proportions_ztest(count=[X_exp, X_con],\n",
    "                                   nobs=[n_exp, n_con],\n",
    "                                   alternative='larger')\n",
    "\n",
    "# CTRs for context\n",
    "ctr_exp = X_exp / n_exp\n",
    "ctr_con = X_con / n_con\n",
    "\n",
    "# Print results\n",
    "print(f\"CTR (Experimental): {ctr_exp:.4f}\")\n",
    "print(f\"CTR (Control): {ctr_con:.4f}\")\n",
    "print(f\"Z-statistic: {z_stat:.2f}\")\n",
    "print(f\"P-value: {p_val:.4f}\")\n"
   ]
  },
  {
   "cell_type": "markdown",
   "id": "dba3bb59",
   "metadata": {},
   "source": [
    "### Confidence interval"
   ]
  },
  {
   "cell_type": "markdown",
   "id": "c08c8a62",
   "metadata": {},
   "source": [
    "**Confidence Interval (CI):**\n",
    "- Definition: A range of values that is likely to contain the true difference between the control and experiment groups\n",
    "- Interpretation:\n",
    "\n",
    "    • If CI does NOT include 0 → Statistically significant difference\n",
    "    \n",
    "    • If CI includes 0 → No statistically significant difference"
   ]
  },
  {
   "cell_type": "code",
   "execution_count": 194,
   "id": "bc3cebfc",
   "metadata": {},
   "outputs": [
    {
     "name": "stdout",
     "output_type": "stream",
     "text": [
      "95% Confidence Interval for CTR difference: [0.294, 0.302]\n"
     ]
    }
   ],
   "source": [
    "import numpy as np\n",
    "\n",
    "diff = ctr_exp - ctr_con\n",
    "se_diff = np.sqrt((ctr_exp * (1 - ctr_exp)) / n_exp + (ctr_con * (1 - ctr_con)) / n_con)\n",
    "z_crit = 1.96\n",
    "\n",
    "ci_lower = round(diff - z_crit * se_diff, 3)\n",
    "ci_upper = round(diff + z_crit * se_diff, 3)\n",
    "\n",
    "print(f\"95% Confidence Interval for CTR difference: [{ci_lower}, {ci_upper}]\")"
   ]
  },
  {
   "cell_type": "markdown",
   "id": "f86bc505",
   "metadata": {},
   "source": [
    "The 95% confidence interval for the difference in click-through rates between the experimental and control groups is [0.293, 0.301].\n",
    "Since the interval does not include 0, we conclude that the increase in CTR is statistically significant."
   ]
  },
  {
   "cell_type": "markdown",
   "id": "dc256df8",
   "metadata": {},
   "source": [
    "### P-Value interpretation"
   ]
  },
  {
   "cell_type": "markdown",
   "id": "c68af206",
   "metadata": {},
   "source": [
    "**P-Value – Evaluation Metric**\n",
    "\n",
    "- **Role**: Determines if the observed effect is statistically significant\n",
    "- **Common Threshold**: 0.05 (5%) (significance level)\n",
    "- **How to interpret**:\n",
    "  - If **p ≤ 0.05**: The result is **statistically significant** — reject the null hypothesis.\n",
    "  - If **p > 0.05**: The result is **not statistically significant** — fail to reject the null."
   ]
  },
  {
   "cell_type": "code",
   "execution_count": 195,
   "id": "81d0464d",
   "metadata": {},
   "outputs": [
    {
     "name": "stdout",
     "output_type": "stream",
     "text": [
      "P-value of one tail Z-test: 0.0\n",
      "There is statistical significance, indicating that the observed difference is unlikely to have occurred by chance.\n"
     ]
    }
   ],
   "source": [
    "Test_stat = z_stat\n",
    "\n",
    "# Calculate p-value from Z-test\n",
    "p_value = norm.sf(Test_stat)  # one-tailed test\n",
    "\n",
    "# Step 2: Define a function to check statistical significance\n",
    "def is_statistical_significance(p_value, alpha=0.05):\n",
    "    print(f\"P-value of one tail Z-test: {round(p_value, 3)}\")\n",
    "\n",
    "    if p_value <= alpha:\n",
    "        print(\"There is statistical significance, indicating that the observed difference is unlikely to have occurred by chance.\")\n",
    "    else:\n",
    "        print(\"There is no statistical significance; the observed difference could be due to random variation.\")\n",
    "\n",
    "# Step 3: Call the function\n",
    "is_statistical_significance(p_value, alpha)"
   ]
  },
  {
   "cell_type": "markdown",
   "id": "e55901b3",
   "metadata": {},
   "source": [
    "## Step 6: Visualize Z-distribution"
   ]
  },
  {
   "cell_type": "code",
   "execution_count": 196,
   "id": "426a5a75",
   "metadata": {},
   "outputs": [
    {
     "data": {
      "image/png": "[encoded data removed]",
      "text/plain": [
       "<Figure size 640x480 with 1 Axes>"
      ]
     },
     "metadata": {},
     "output_type": "display_data"
    }
   ],
   "source": [
    "# Parameters for the standard normal distribution\n",
    "mu = 0  # Mean of standard normal\n",
    "sigma = 1  # Standard deviation of standard normal\n",
    "x = np.linspace(mu - 3*sigma, mu + 3*sigma, 100)  # Z-values range\n",
    "y = norm.pdf(x, mu, sigma)  # Probability density function values\n",
    "\n",
    "# Pre-calculated test statistic and critical value\n",
    "Test_stat = 42.71  # Z-score calculated from A/B test\n",
    "Z_crit = norm.ppf(1 - 0.05)  # ≈ 1.645\n",
    "\n",
    "# Plot standard normal curve\n",
    "plt.plot(x, y, label='Standard Normal Distribution')\n",
    "\n",
    "# Shade rejection region (right tail only)\n",
    "plt.fill_between(x, y, where=(x > Z_crit), color='red', alpha=0.4, label='Rejection Region (α=0.05)')\n",
    "\n",
    "# Vertical lines\n",
    "plt.axvline(Test_stat, color='green', linestyle='--', linewidth=2, label=f'Test Statistic = {Test_stat:.2f}')\n",
    "plt.axvline(Z_crit, color='blue', linestyle='--', linewidth=1, label=f'Z-critical = {Z_crit:.2f}')\n",
    "\n",
    "# Labels\n",
    "plt.xlabel('Z-value')\n",
    "plt.ylabel('Probability Density')\n",
    "plt.title('One-Tailed Z-Test (Right Tail)')\n",
    "plt.legend()\n",
    "plt.tight_layout()\n",
    "plt.show()\n"
   ]
  },
  {
   "cell_type": "markdown",
   "id": "7d56bfc7",
   "metadata": {},
   "source": [
    "**Interpretation of the One-Tailed Z-Test Plot:**\n",
    "This plot visualizes the Z-distribution used in a right-tailed hypothesis test, where the goal is to determine if the experimental group's click-through rate (CTR) is significantly greater than the control group’s CTR."
   ]
  },
  {
   "cell_type": "markdown",
   "id": "9b77157a",
   "metadata": {},
   "source": [
    "### Step 7: Practical Significance Check\n",
    "\n",
    "We define a Minimum Detectable Effect (MDE) — the smallest improvement in CTR we care about (e.g., 5%).  \n",
    "This function checks whether the lower bound of the 95% confidence interval is above that threshold.\n",
    "\n",
    "If it is, we can say the observed improvement is **not only statistically significant but also practically meaningful**.\n"
   ]
  },
  {
   "cell_type": "code",
   "execution_count": 197,
   "id": "f2a733d9",
   "metadata": {},
   "outputs": [],
   "source": [
    "def is_Practically_significant(delta, CI_95):\n",
    "   # Extract lower bound of 95% Confidence Interval\n",
    "    lower_bound_CI = CI_95[0]\n",
    "\n",
    "    # Check if the lower bound of the CI is greater than or equal to delta\n",
    "    if lower_bound_CI >= delta:\n",
    "        print(f\"We have practical significance! \\nWith MDE of {delta}, the difference between Control and Experimental group is practically significant.\")\n",
    "    else:\n",
    "        print(f\"We don't have practical significance! \\nThe difference between Control and Experimental group is not practically significant.\")\n",
    "        return False"
   ]
  },
  {
   "cell_type": "code",
   "execution_count": 198,
   "id": "5414adc2",
   "metadata": {},
   "outputs": [
    {
     "name": "stdout",
     "output_type": "stream",
     "text": [
      "We have practical significance! \n",
      "With MDE of 0.05, the difference between Control and Experimental group is practically significant.\n"
     ]
    }
   ],
   "source": [
    "CI = [ci_lower, ci_upper]\n",
    "\n",
    "delta = 0.05  # Minimum effect size we care about\n",
    "CI_95 = CI    # Reusing previously calculated confidence interval\n",
    "\n",
    "is_Practically_significant(delta, CI_95)"
   ]
  }
 ],
 "metadata": {
  "kernelspec": {
   "display_name": "base",
   "language": "python",
   "name": "python3"
  },
  "language_info": {
   "codemirror_mode": {
    "name": "ipython",
    "version": 3
   },
   "file_extension": ".py",
   "mimetype": "text/x-python",
   "name": "python",
   "nbconvert_exporter": "python",
   "pygments_lexer": "ipython3",
   "version": "3.11.7"
  }
 },
 "nbformat": 4,
 "nbformat_minor": 5
}
